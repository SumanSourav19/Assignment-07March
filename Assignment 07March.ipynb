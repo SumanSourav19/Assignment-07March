{
 "cells": [
  {
   "cell_type": "markdown",
   "id": "303381a1-24b4-4319-a0d3-57937d25e1d2",
   "metadata": {},
   "source": [
    "Q1. What are the three measures of central tendency?"
   ]
  },
  {
   "cell_type": "markdown",
   "id": "87c3500a-a5e8-4e11-9eec-5ea57318129a",
   "metadata": {},
   "source": [
    "Ans) There are three main measures of central tendency: mode. median. mean."
   ]
  },
  {
   "cell_type": "markdown",
   "id": "8db3fc27-a098-4299-9af5-4f301673acc0",
   "metadata": {},
   "source": [
    "Q2. What is the difference between the mean, median, and mode? How are they used to measure the\n",
    "central tendency of a dataset?"
   ]
  },
  {
   "cell_type": "markdown",
   "id": "511f42ae-e05b-48f5-8e7e-6acec81b7a44",
   "metadata": {},
   "source": [
    "Ans) The mean is the sum of all values divided by the total number of values.The median is the middle number in an ordered data set.The mode is the most frequent value. A measure of central tendency (also referred to as measures of centre or central location) is a summary measure that attempts to describe a whole set of data with a single value that represents the middle or centre of its distribution."
   ]
  },
  {
   "cell_type": "markdown",
   "id": "abd89320-e0d9-4681-9bfe-f96cb89883cd",
   "metadata": {},
   "source": [
    "Q3. Measure the three measures of central tendency for the given height data:\n",
    "[178,177,176,177,178.2,178,175,179,180,175,178.9,176.2,177,172.5,178,176.5]"
   ]
  },
  {
   "cell_type": "markdown",
   "id": "66af03ca-4ca8-4ff8-8915-513c11587a2f",
   "metadata": {},
   "source": [
    "Ans) Mean = 177.01,\n",
    "     Median = 179.5,\n",
    "     Mode = 177,178"
   ]
  },
  {
   "cell_type": "markdown",
   "id": "ddcfa949-1ce8-4e82-b110-9391228a80b4",
   "metadata": {},
   "source": [
    "Q4. Find the standard deviation for the given data:\n",
    "\n",
    "[178,177,176,177,178.2,178,175,179,180,175,178.9,176.2,177,172.5,178,176.5]"
   ]
  },
  {
   "cell_type": "markdown",
   "id": "1ad457c2-a864-42e9-bd83-ebcc3c8ad9e2",
   "metadata": {},
   "source": [
    "Ans) 1.788"
   ]
  },
  {
   "cell_type": "markdown",
   "id": "7e342eff-85fd-4104-abf6-814a4fa2c7c3",
   "metadata": {},
   "source": [
    "Q5. How are measures of dispersion such as range, variance, and standard deviation used to describe\n",
    "the spread of a dataset? Provide an example."
   ]
  },
  {
   "cell_type": "markdown",
   "id": "bb0edef7-1294-4712-8a59-28e446061a9b",
   "metadata": {},
   "source": [
    "Ans) Two data sets can have the same mean but they can be entirely different. Thus to describe data, one needs to know the extent of variability. This is given by the measures of dispersion. Range, variance and standard deviation are the three commonly used measures of dispersion.\n",
    "\n",
    "Example:- Suppose we have two data sets A = {3, 1, 6, 2} and B = {1, 5, 9, 10}. \n",
    "\n",
    "The variance(population) of A is 3.5 and the variance(population) of B is 12.68. This implies that data set B is more variable than data set A. Thus, the variance helps to draw a comparison between the two data sets A and B on the basis of variability."
   ]
  },
  {
   "cell_type": "markdown",
   "id": "d1e38879-7c45-4464-96ef-1c8fab8d2a56",
   "metadata": {},
   "source": [
    "Q6. What is a Venn diagram?"
   ]
  },
  {
   "cell_type": "markdown",
   "id": "46db796e-c233-484c-8daf-e81b53c7942a",
   "metadata": {},
   "source": [
    "Ans) A Venn diagram is an illustration that uses circles to show the relationships among things or finite groups of things. Circles that overlap have a commonality while circles that do not overlap do not share those traits. Venn diagrams help to visually represent the similarities and differences between two concepts."
   ]
  },
  {
   "cell_type": "markdown",
   "id": "51ad2386-d7e5-439e-8625-7255da1bfb2c",
   "metadata": {},
   "source": [
    "Q7. For the two given sets A = (2,3,4,5,6,7) & B = (0,2,6,8,10). \n",
    "\n",
    "Find:\n",
    "(i) A ∩ B\n",
    "(ii) A ⋃ B"
   ]
  },
  {
   "cell_type": "markdown",
   "id": "44ed8075-de3a-4fbf-8186-30b47c03dac2",
   "metadata": {},
   "source": [
    "Ans) (i) A ∩ B = (2,6)\n",
    "     (ii) A ⋃ B = (0,2,3,4,5,6,7,8,10) "
   ]
  },
  {
   "cell_type": "markdown",
   "id": "b6ebedf1-278b-4286-ad3c-d3b01c33771c",
   "metadata": {},
   "source": [
    "Q8. What do you understand about skewness in data?"
   ]
  },
  {
   "cell_type": "markdown",
   "id": "6b54e061-cea7-4186-90a0-3deea5aab7e9",
   "metadata": {},
   "source": [
    "Ans) Skewness is a measurement of the distortion of symmetrical distribution or asymmetry in a data set. Skewness is demonstrated on a bell curve when data points are not distributed symmetrically to the left and right sides of the median on a bell curve. If the bell curve is shifted to the left or the right, it is said to be skewed."
   ]
  },
  {
   "cell_type": "markdown",
   "id": "e76131e0-8148-4125-b435-8569641841c4",
   "metadata": {},
   "source": [
    "Q9. If a data is right skewed then what will be the position of median with respect to mean?"
   ]
  },
  {
   "cell_type": "markdown",
   "id": "12c3be1b-baff-4dda-8582-15f9fa4724f4",
   "metadata": {},
   "source": [
    "Ans)  If the distribution of data is skewed to the right, then Mean>Median>Mode"
   ]
  },
  {
   "cell_type": "markdown",
   "id": "86443247-3cab-45bc-b8fa-8f32858e6170",
   "metadata": {},
   "source": [
    "Q10. Explain the difference between covariance and correlation. How are these measures used in\n",
    "statistical analysis?"
   ]
  },
  {
   "cell_type": "markdown",
   "id": "85854af0-143a-4f70-9b1f-50c1e093a695",
   "metadata": {},
   "source": [
    "Ans) Covariance signifies the direction of the linear relationship between two variables, whereas correlation indicates both the direction and strength of the linear relationship between variables. \n",
    "\n",
    "Covariance and correlation greatly aid in understanding the relationship between two continuous variables. Covariance indicates whether two variables fluctuate in the same (positive covariance) or opposite direction (negative covariance). The numerical value of covariance has no importance; only the sign is relevant. Correlation, on the other hand, describes how a change in one variable leads to a change in the percentage of the second variable. Correlation ranges from -1 to +1. If the correlation value is 0, it suggests that there is no linear link between the variables, but another functional relationship may exist."
   ]
  },
  {
   "cell_type": "markdown",
   "id": "a3c57633-fc1a-4442-a468-b70cd9c2c97e",
   "metadata": {},
   "source": [
    "Q11. What is the formula for calculating the sample mean? Provide an example calculation for a\n",
    "dataset."
   ]
  },
  {
   "cell_type": "markdown",
   "id": "692b787b-ff2a-4e84-937e-157e306829c1",
   "metadata": {},
   "source": [
    "Ans ) The general formula for calculating the sample mean is given by x̄ = ( Σ xi ) / n. Here, x̄ represents the sample mean, xi refers all X sample values and n stands for the number of sample terms in the data set.\n",
    "\n",
    "Example:- Five friends having heights of 110 units, 115 units, 109 units, 112 units, and 114 units respectively. Find their sample mean height. \n",
    "\n",
    "To find: Sample mean height\n",
    "Sum of all heights = 110 + 115 + 109 + 112 + 114 = 560\n",
    "Number of person = 5\n",
    "Using sample mean formula,\n",
    "mean = (sum of terms)/(number of terms)\n",
    "mean =560/5\n",
    "= 112 units\n",
    "\n",
    "Answer: The sample mean height of five friends is 112 units."
   ]
  },
  {
   "cell_type": "markdown",
   "id": "1a7e386d-e4e0-4281-bcc1-3853d4b16b50",
   "metadata": {},
   "source": [
    "Q12. For a normal distribution data what is the relationship between its measure of central tendency?"
   ]
  },
  {
   "cell_type": "markdown",
   "id": "568486d8-13ae-4baa-b8be-bd4a1616efc7",
   "metadata": {},
   "source": [
    "Ans) Any normal distribution has a graph that is perfectly symmetric about a vertical line through its peak. Therefore, all measures of central tendency (most commonly, the mean, median, and mode) give the same answer: the x -value of the peak."
   ]
  },
  {
   "cell_type": "markdown",
   "id": "e86fc564-12c4-4462-bf83-fe0bfa72cad0",
   "metadata": {},
   "source": [
    "Q13. How is covariance different from correlation?"
   ]
  },
  {
   "cell_type": "markdown",
   "id": "ae848eb8-9f55-45f6-a2a0-33a26bce5afb",
   "metadata": {},
   "source": [
    "Ans) Covariance and correlation are two terms that are opposed and are both used in statistics and regression analysis. Covariance shows you how the two variables differ, whereas correlation shows you how the two variables are related"
   ]
  },
  {
   "cell_type": "markdown",
   "id": "48bf9196-b32f-470c-8573-62b0aeaec5c3",
   "metadata": {},
   "source": [
    "Q14. How do outliers affect measures of central tendency and dispersion? Provide an example."
   ]
  },
  {
   "cell_type": "markdown",
   "id": "90f258bb-4bc4-4cee-8deb-8d8ab4e74007",
   "metadata": {},
   "source": [
    "Ans) Outliers are numbers in a data set that are vastly larger or smaller than the other values in the set. Mean, median and mode are measures of central tendency. Mean is the only measure of central tendency that is always affected by an outlier.\n",
    "\n",
    "Dispersion is the degree to which data is distributed around this central tendency, and is represented by range, deviation, variance, standard deviation and standard error.\n",
    "\n",
    "Example:- \n",
    "\n",
    "Consider the initial retirement age dataset again, with one difference; the last observation of 60 years has been replaced with a retirement age of 81 years.  This value is much higher than the other values, and could be considered an outlier.  However, it has not changed the middle of the distribution, and therefore the median value is still 57 years.  \n",
    "\n",
    "54, 54, 54, 55, 56, 57, 57, 58, 58, 60, 81\n",
    "\n",
    "As the all values are included in the calculation of the mean, the outlier will influence the mean value.    \n",
    "\n",
    "(54+54+54+55+56+57+57+58+58+60+81 = 644), divided by 11 = 58.5 years\n",
    "\n",
    "In this distribution the outlier value has increased the mean value.  "
   ]
  }
 ],
 "metadata": {
  "kernelspec": {
   "display_name": "Python 3 (ipykernel)",
   "language": "python",
   "name": "python3"
  },
  "language_info": {
   "codemirror_mode": {
    "name": "ipython",
    "version": 3
   },
   "file_extension": ".py",
   "mimetype": "text/x-python",
   "name": "python",
   "nbconvert_exporter": "python",
   "pygments_lexer": "ipython3",
   "version": "3.10.8"
  }
 },
 "nbformat": 4,
 "nbformat_minor": 5
}
